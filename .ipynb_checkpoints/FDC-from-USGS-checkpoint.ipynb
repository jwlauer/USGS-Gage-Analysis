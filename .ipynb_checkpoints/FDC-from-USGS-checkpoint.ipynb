{
 "cells": [
  {
   "cell_type": "markdown",
   "id": "4da937cf",
   "metadata": {},
   "source": [
    "### Import Libraries"
   ]
  },
  {
   "cell_type": "code",
   "execution_count": 1,
   "id": "c4c6a1a4",
   "metadata": {},
   "outputs": [],
   "source": [
    "import matplotlib.pyplot as plt\n",
    "import pandas as pd\n",
    "from datetime import datetime\n",
    "import dataretrieval.nwis as nwis"
   ]
  },
  {
   "cell_type": "markdown",
   "id": "38fa0df2",
   "metadata": {},
   "source": [
    "### USGS Gage ID"
   ]
  },
  {
   "cell_type": "code",
   "execution_count": 2,
   "id": "8f1e7098",
   "metadata": {},
   "outputs": [],
   "source": [
    "site = '12181000'"
   ]
  },
  {
   "cell_type": "markdown",
   "id": "06cad91d",
   "metadata": {},
   "source": [
    "### Read data from USGS website.  "
   ]
  },
  {
   "cell_type": "code",
   "execution_count": 3,
   "id": "d13e2c62",
   "metadata": {},
   "outputs": [],
   "source": [
    "# get daily values (this is set up to download period of record)\n",
    "start_date = \"1776-07-04\"  #can change to any date\n",
    "now = datetime.now()\n",
    "date_now = str(now.date())\n",
    "end_date = date_now        #can change to any date\n",
    "\n",
    "df = nwis.get_record(sites=site, \n",
    "                     service='dv', \n",
    "                     start=start_date, \n",
    "                     end=end_date,\n",
    "                     parameterCd = \"00060\") # Discharge"
   ]
  },
  {
   "cell_type": "code",
   "execution_count": 4,
   "id": "62ca2a31",
   "metadata": {
    "scrolled": true
   },
   "outputs": [
    {
     "data": {
      "text/html": [
       "<div>\n",
       "<style scoped>\n",
       "    .dataframe tbody tr th:only-of-type {\n",
       "        vertical-align: middle;\n",
       "    }\n",
       "\n",
       "    .dataframe tbody tr th {\n",
       "        vertical-align: top;\n",
       "    }\n",
       "\n",
       "    .dataframe thead th {\n",
       "        text-align: right;\n",
       "    }\n",
       "</style>\n",
       "<table border=\"1\" class=\"dataframe\">\n",
       "  <thead>\n",
       "    <tr style=\"text-align: right;\">\n",
       "      <th></th>\n",
       "      <th>00060_Mean</th>\n",
       "      <th>00060_Mean_cd</th>\n",
       "      <th>site_no</th>\n",
       "    </tr>\n",
       "    <tr>\n",
       "      <th>datetime</th>\n",
       "      <th></th>\n",
       "      <th></th>\n",
       "      <th></th>\n",
       "    </tr>\n",
       "  </thead>\n",
       "  <tbody>\n",
       "    <tr>\n",
       "      <th>1943-09-01 00:00:00+00:00</th>\n",
       "      <td>3200.0</td>\n",
       "      <td>A</td>\n",
       "      <td>12181000</td>\n",
       "    </tr>\n",
       "    <tr>\n",
       "      <th>1943-09-02 00:00:00+00:00</th>\n",
       "      <td>3100.0</td>\n",
       "      <td>A</td>\n",
       "      <td>12181000</td>\n",
       "    </tr>\n",
       "    <tr>\n",
       "      <th>1943-09-03 00:00:00+00:00</th>\n",
       "      <td>3200.0</td>\n",
       "      <td>A</td>\n",
       "      <td>12181000</td>\n",
       "    </tr>\n",
       "    <tr>\n",
       "      <th>1943-09-04 00:00:00+00:00</th>\n",
       "      <td>3000.0</td>\n",
       "      <td>A</td>\n",
       "      <td>12181000</td>\n",
       "    </tr>\n",
       "    <tr>\n",
       "      <th>1943-09-05 00:00:00+00:00</th>\n",
       "      <td>2500.0</td>\n",
       "      <td>A</td>\n",
       "      <td>12181000</td>\n",
       "    </tr>\n",
       "    <tr>\n",
       "      <th>...</th>\n",
       "      <td>...</td>\n",
       "      <td>...</td>\n",
       "      <td>...</td>\n",
       "    </tr>\n",
       "    <tr>\n",
       "      <th>2022-01-23 00:00:00+00:00</th>\n",
       "      <td>9160.0</td>\n",
       "      <td>P</td>\n",
       "      <td>12181000</td>\n",
       "    </tr>\n",
       "    <tr>\n",
       "      <th>2022-01-24 00:00:00+00:00</th>\n",
       "      <td>8920.0</td>\n",
       "      <td>P</td>\n",
       "      <td>12181000</td>\n",
       "    </tr>\n",
       "    <tr>\n",
       "      <th>2022-01-25 00:00:00+00:00</th>\n",
       "      <td>8780.0</td>\n",
       "      <td>P</td>\n",
       "      <td>12181000</td>\n",
       "    </tr>\n",
       "    <tr>\n",
       "      <th>2022-01-26 00:00:00+00:00</th>\n",
       "      <td>8550.0</td>\n",
       "      <td>P</td>\n",
       "      <td>12181000</td>\n",
       "    </tr>\n",
       "    <tr>\n",
       "      <th>2022-01-27 00:00:00+00:00</th>\n",
       "      <td>7320.0</td>\n",
       "      <td>P</td>\n",
       "      <td>12181000</td>\n",
       "    </tr>\n",
       "  </tbody>\n",
       "</table>\n",
       "<p>18825 rows × 3 columns</p>\n",
       "</div>"
      ],
      "text/plain": [
       "                           00060_Mean 00060_Mean_cd   site_no\n",
       "datetime                                                     \n",
       "1943-09-01 00:00:00+00:00      3200.0             A  12181000\n",
       "1943-09-02 00:00:00+00:00      3100.0             A  12181000\n",
       "1943-09-03 00:00:00+00:00      3200.0             A  12181000\n",
       "1943-09-04 00:00:00+00:00      3000.0             A  12181000\n",
       "1943-09-05 00:00:00+00:00      2500.0             A  12181000\n",
       "...                               ...           ...       ...\n",
       "2022-01-23 00:00:00+00:00      9160.0             P  12181000\n",
       "2022-01-24 00:00:00+00:00      8920.0             P  12181000\n",
       "2022-01-25 00:00:00+00:00      8780.0             P  12181000\n",
       "2022-01-26 00:00:00+00:00      8550.0             P  12181000\n",
       "2022-01-27 00:00:00+00:00      7320.0             P  12181000\n",
       "\n",
       "[18825 rows x 3 columns]"
      ]
     },
     "execution_count": 4,
     "metadata": {},
     "output_type": "execute_result"
    }
   ],
   "source": [
    "df"
   ]
  },
  {
   "cell_type": "markdown",
   "id": "c0c5ebbe",
   "metadata": {},
   "source": [
    "### Define and populate dataframe with probability bins for flow duration curve\n"
   ]
  },
  {
   "cell_type": "code",
   "execution_count": 5,
   "id": "d2bddefe",
   "metadata": {
    "scrolled": true
   },
   "outputs": [],
   "source": [
    "df_cdf = pd.DataFrame()\n",
    "df_cdf['quantiles']= [0.3, 0.6, 0.8, 0.85, 0.9, 0.92, 0.94, 0.96, 0.97, 0.98, 0.99, 0.995, 1]\n",
    "df_bin = df_cdf.diff().rename(columns={\"quantiles\": \"prob\"})\n",
    "df_bin['prob'][0] = df_cdf['quantiles'][0]\n",
    "df_bin['representative_quantile'] = df_bin['prob'].cumsum()-df_bin['prob']/2\n",
    "df_FDC = pd.Series(df['00060_Mean'].quantile(df_bin['representative_quantile']))/3.2807**3\n",
    "df_bin['Qw'] = 0\n",
    "for i in range(len(df_FDC)):\n",
    "    df_bin.iloc[i,2] = df_FDC.iloc[i]\n"
   ]
  },
  {
   "cell_type": "markdown",
   "id": "0d0e231c",
   "metadata": {},
   "source": [
    "Print the data"
   ]
  },
  {
   "cell_type": "code",
   "execution_count": 6,
   "id": "193d00e5",
   "metadata": {},
   "outputs": [
    {
     "data": {
      "text/html": [
       "<div>\n",
       "<style scoped>\n",
       "    .dataframe tbody tr th:only-of-type {\n",
       "        vertical-align: middle;\n",
       "    }\n",
       "\n",
       "    .dataframe tbody tr th {\n",
       "        vertical-align: top;\n",
       "    }\n",
       "\n",
       "    .dataframe thead th {\n",
       "        text-align: right;\n",
       "    }\n",
       "</style>\n",
       "<table border=\"1\" class=\"dataframe\">\n",
       "  <thead>\n",
       "    <tr style=\"text-align: right;\">\n",
       "      <th></th>\n",
       "      <th>prob</th>\n",
       "      <th>representative_quantile</th>\n",
       "      <th>Qw</th>\n",
       "    </tr>\n",
       "  </thead>\n",
       "  <tbody>\n",
       "    <tr>\n",
       "      <th>0</th>\n",
       "      <td>0.300</td>\n",
       "      <td>0.1500</td>\n",
       "      <td>101.387280</td>\n",
       "    </tr>\n",
       "    <tr>\n",
       "      <th>1</th>\n",
       "      <td>0.300</td>\n",
       "      <td>0.4500</td>\n",
       "      <td>148.116054</td>\n",
       "    </tr>\n",
       "    <tr>\n",
       "      <th>2</th>\n",
       "      <td>0.200</td>\n",
       "      <td>0.7000</td>\n",
       "      <td>196.260852</td>\n",
       "    </tr>\n",
       "    <tr>\n",
       "      <th>3</th>\n",
       "      <td>0.050</td>\n",
       "      <td>0.8250</td>\n",
       "      <td>229.395800</td>\n",
       "    </tr>\n",
       "    <tr>\n",
       "      <th>4</th>\n",
       "      <td>0.050</td>\n",
       "      <td>0.8750</td>\n",
       "      <td>248.653720</td>\n",
       "    </tr>\n",
       "    <tr>\n",
       "      <th>5</th>\n",
       "      <td>0.020</td>\n",
       "      <td>0.9100</td>\n",
       "      <td>270.460481</td>\n",
       "    </tr>\n",
       "    <tr>\n",
       "      <th>6</th>\n",
       "      <td>0.020</td>\n",
       "      <td>0.9300</td>\n",
       "      <td>288.868786</td>\n",
       "    </tr>\n",
       "    <tr>\n",
       "      <th>7</th>\n",
       "      <td>0.020</td>\n",
       "      <td>0.9500</td>\n",
       "      <td>320.021302</td>\n",
       "    </tr>\n",
       "    <tr>\n",
       "      <th>8</th>\n",
       "      <td>0.010</td>\n",
       "      <td>0.9650</td>\n",
       "      <td>354.005865</td>\n",
       "    </tr>\n",
       "    <tr>\n",
       "      <th>9</th>\n",
       "      <td>0.010</td>\n",
       "      <td>0.9750</td>\n",
       "      <td>385.158381</td>\n",
       "    </tr>\n",
       "    <tr>\n",
       "      <th>10</th>\n",
       "      <td>0.010</td>\n",
       "      <td>0.9850</td>\n",
       "      <td>438.967272</td>\n",
       "    </tr>\n",
       "    <tr>\n",
       "      <th>11</th>\n",
       "      <td>0.005</td>\n",
       "      <td>0.9925</td>\n",
       "      <td>514.922771</td>\n",
       "    </tr>\n",
       "    <tr>\n",
       "      <th>12</th>\n",
       "      <td>0.005</td>\n",
       "      <td>0.9975</td>\n",
       "      <td>741.656447</td>\n",
       "    </tr>\n",
       "  </tbody>\n",
       "</table>\n",
       "</div>"
      ],
      "text/plain": [
       "     prob  representative_quantile          Qw\n",
       "0   0.300                   0.1500  101.387280\n",
       "1   0.300                   0.4500  148.116054\n",
       "2   0.200                   0.7000  196.260852\n",
       "3   0.050                   0.8250  229.395800\n",
       "4   0.050                   0.8750  248.653720\n",
       "5   0.020                   0.9100  270.460481\n",
       "6   0.020                   0.9300  288.868786\n",
       "7   0.020                   0.9500  320.021302\n",
       "8   0.010                   0.9650  354.005865\n",
       "9   0.010                   0.9750  385.158381\n",
       "10  0.010                   0.9850  438.967272\n",
       "11  0.005                   0.9925  514.922771\n",
       "12  0.005                   0.9975  741.656447"
      ]
     },
     "execution_count": 6,
     "metadata": {},
     "output_type": "execute_result"
    }
   ],
   "source": [
    "df_bin"
   ]
  },
  {
   "cell_type": "markdown",
   "id": "1beaa51a",
   "metadata": {},
   "source": [
    "### Create Graph"
   ]
  },
  {
   "cell_type": "code",
   "execution_count": 7,
   "id": "f560454b",
   "metadata": {},
   "outputs": [
    {
     "data": {
      "text/plain": [
       "<matplotlib.collections.PathCollection at 0x21cd61f01c0>"
      ]
     },
     "execution_count": 7,
     "metadata": {},
     "output_type": "execute_result"
    },
    {
     "data": {
      "image/png": "[encoded data removed]",
      "text/plain": [
       "<Figure size 432x288 with 1 Axes>"
      ]
     },
     "metadata": {
      "needs_background": "light"
     },
     "output_type": "display_data"
    }
   ],
   "source": [
    "fig, ax1 = plt.subplots(1,1)\n",
    "ax1.bar(df_bin['representative_quantile'],\n",
    "              height=df_bin['Qw'], \n",
    "              width=df_bin['prob'])\n",
    "ax1.set_xlabel('Fraction of Time Not Exceeded')\n",
    "ax1.set_ylabel('Discharge ($m^3$/s)')\n",
    "ax1.set_xlim([0, 1])\n",
    "ax1.set_title(f'Discretized CDF at USGS {site}')\n",
    "ax1.scatter(df_bin['representative_quantile'],df_bin['Qw'\n",
    "])"
   ]
  },
  {
   "cell_type": "markdown",
   "id": "f99ba79a",
   "metadata": {},
   "source": [
    "### Format text output for use in code"
   ]
  },
  {
   "cell_type": "code",
   "execution_count": 8,
   "id": "861ed8e8",
   "metadata": {},
   "outputs": [
    {
     "name": "stdout",
     "output_type": "stream",
     "text": [
      "inputs.Qw = [101,148,196,229,249,270,289,320,354,385,439,515,742,\b]\n",
      "inputs.p = [0.300,0.300,0.200,0.050,0.050,0.020,0.020,0.020,0.010,0.010,0.010,0.005,0.005,\b]\n"
     ]
    }
   ],
   "source": [
    "text = 'inputs.Qw = ['\n",
    "for Q in df_bin['Qw']:\n",
    "    text = text + f'{Q:.0f},'\n",
    "text = text + '\\b]'    \n",
    "print(text)\n",
    "\n",
    "text = 'inputs.p = ['\n",
    "for p in df_bin['prob']:\n",
    "    text = text + f'{p:.3f},'\n",
    "text = text + '\\b]'    \n",
    "print(text)"
   ]
  }
 ],
 "metadata": {
  "kernelspec": {
   "display_name": "Python 3 (ipykernel)",
   "language": "python",
   "name": "python3"
  },
  "language_info": {
   "codemirror_mode": {
    "name": "ipython",
    "version": 3
   },
   "file_extension": ".py",
   "mimetype": "text/x-python",
   "name": "python",
   "nbconvert_exporter": "python",
   "pygments_lexer": "ipython3",
   "version": "3.9.7"
  }
 },
 "nbformat": 4,
 "nbformat_minor": 5
}
