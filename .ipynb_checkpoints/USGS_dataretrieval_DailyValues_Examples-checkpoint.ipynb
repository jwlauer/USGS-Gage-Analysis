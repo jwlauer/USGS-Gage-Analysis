{
 "cells": [
  {
   "cell_type": "markdown",
   "metadata": {},
   "source": [
    "# USGS dataretrieval Python Package `get_dv()` Examples\n",
    "\n",
    "This notebook provides examples of using the Python dataretrieval package to retrieve daily streamflow data for a United States Geological Survey (USGS) monitoring site. The dataretrieval package provides a collection of functions to get data from the USGS National Water Information System (NWIS) and other online sources of hydrology and water quality data, including the United States Environmental Protection Agency (USEPA)."
   ]
  },
  {
   "cell_type": "markdown",
   "metadata": {},
   "source": [
    "### Install the Package\n",
    "\n",
    "Use the following code to install the package if it doesn't exist already within your Jupyter Python environment."
   ]
  },
  {
   "cell_type": "code",
   "execution_count": null,
   "metadata": {
    "pycharm": {
     "is_executing": true,
     "name": "#%%\n"
    }
   },
   "outputs": [],
   "source": [
    "#!pip install dataretrieval"
   ]
  },
  {
   "cell_type": "markdown",
   "metadata": {},
   "source": [
    "Load the package so you can use it along with other packages used in this notebook."
   ]
  },
  {
   "cell_type": "code",
   "execution_count": 2,
   "metadata": {
    "pycharm": {
     "name": "#%%\n"
    }
   },
   "outputs": [],
   "source": [
    "from dataretrieval import nwis\n",
    "from IPython.display import display"
   ]
  },
  {
   "cell_type": "markdown",
   "metadata": {},
   "source": [
    "### Basic Usage\n",
    "\n",
    "The dataretrieval package has several functions that allow you to retrieve data from different web services. This examples uses the `get_dv()` function to retrieve daily streamflow data for a USGS monitoring site from NWIS. The following arguments are supported:\n",
    "\n",
    "Arguments (Additional arguments, if supplied, will be used as query parameters)\n",
    "\n",
    "* **sites** (string or list of strings): A list of USGS site identifiers for which to retrieve data.\n",
    "* **parameterCd** (list of strings): A list of USGS parameter codes for which to retrieve data.\n",
    "* **statCd** (list of strings): A list of USGS statistic codes for which to retrieve data.\n",
    "* **start** (string): The beginning date for a period for which to retrieve data. If the waterdata parameter startDT is supplied, it will overwrite the start parameter.\n",
    "* **end** (string): The ending date for a period for which to retrieve data. If the waterdata parameter endDT is supplied, it will overwrite the end parameter."
   ]
  },
  {
   "cell_type": "markdown",
   "metadata": {
    "pycharm": {
     "name": "#%% md\n"
    }
   },
   "source": [
    "Example 1: Get daily value data for a specific parameter at a single USGS NWIS monitoring site between a begin and end date."
   ]
  },
  {
   "cell_type": "code",
   "execution_count": 3,
   "metadata": {
    "pycharm": {
     "name": "#%%\n"
    }
   },
   "outputs": [
    {
     "name": "stdout",
     "output_type": "stream",
     "text": [
      "Retrieved 365 data values.\n"
     ]
    }
   ],
   "source": [
    "# Set the parameters needed to retrieve data\n",
    "siteNumber = \"10109000\" # LOGAN RIVER ABOVE STATE DAM, NEAR LOGAN, UT\n",
    "parameterCode = \"00060\" # Discharge\n",
    "startDate = \"2020-10-01\"\n",
    "endDate = \"2021-09-30\"\n",
    "\n",
    "# Retrieve the data\n",
    "dailyStreamflow = nwis.get_dv(sites=siteNumber, parameterCd=parameterCode, start=startDate, end=endDate) \n",
    "print(\"Retrieved \" + str(len(dailyStreamflow[0])) + \" data values.\")"
   ]
  },
  {
   "cell_type": "markdown",
   "metadata": {},
   "source": [
    "### Interpreting the Result\n",
    "\n",
    "The result of calling the `get_dv()` function is an object that contains a Pandas data frame object and an associated metadata object. The Pandas data frame contains the daily values for the observed variable and time period requested. The data frame is indexed by the dates associated with the data values.\n",
    "\n",
    "Once you've got the data frame, there's several useful things you can do to explore the data."
   ]
  },
  {
   "cell_type": "code",
   "execution_count": 4,
   "metadata": {
    "pycharm": {
     "name": "#%%\n"
    }
   },
   "outputs": [
    {
     "data": {
      "text/html": [
       "<div>\n",
       "<style scoped>\n",
       "    .dataframe tbody tr th:only-of-type {\n",
       "        vertical-align: middle;\n",
       "    }\n",
       "\n",
       "    .dataframe tbody tr th {\n",
       "        vertical-align: top;\n",
       "    }\n",
       "\n",
       "    .dataframe thead th {\n",
       "        text-align: right;\n",
       "    }\n",
       "</style>\n",
       "<table border=\"1\" class=\"dataframe\">\n",
       "  <thead>\n",
       "    <tr style=\"text-align: right;\">\n",
       "      <th></th>\n",
       "      <th>00060_Mean</th>\n",
       "      <th>00060_Mean_cd</th>\n",
       "      <th>site_no</th>\n",
       "    </tr>\n",
       "    <tr>\n",
       "      <th>datetime</th>\n",
       "      <th></th>\n",
       "      <th></th>\n",
       "      <th></th>\n",
       "    </tr>\n",
       "  </thead>\n",
       "  <tbody>\n",
       "    <tr>\n",
       "      <th>2020-10-01 00:00:00+00:00</th>\n",
       "      <td>88.8</td>\n",
       "      <td>A</td>\n",
       "      <td>10109000</td>\n",
       "    </tr>\n",
       "    <tr>\n",
       "      <th>2020-10-02 00:00:00+00:00</th>\n",
       "      <td>90.5</td>\n",
       "      <td>A</td>\n",
       "      <td>10109000</td>\n",
       "    </tr>\n",
       "    <tr>\n",
       "      <th>2020-10-03 00:00:00+00:00</th>\n",
       "      <td>92.7</td>\n",
       "      <td>A</td>\n",
       "      <td>10109000</td>\n",
       "    </tr>\n",
       "    <tr>\n",
       "      <th>2020-10-04 00:00:00+00:00</th>\n",
       "      <td>91.8</td>\n",
       "      <td>A</td>\n",
       "      <td>10109000</td>\n",
       "    </tr>\n",
       "    <tr>\n",
       "      <th>2020-10-05 00:00:00+00:00</th>\n",
       "      <td>91.0</td>\n",
       "      <td>A</td>\n",
       "      <td>10109000</td>\n",
       "    </tr>\n",
       "    <tr>\n",
       "      <th>...</th>\n",
       "      <td>...</td>\n",
       "      <td>...</td>\n",
       "      <td>...</td>\n",
       "    </tr>\n",
       "    <tr>\n",
       "      <th>2021-09-26 00:00:00+00:00</th>\n",
       "      <td>54.2</td>\n",
       "      <td>A</td>\n",
       "      <td>10109000</td>\n",
       "    </tr>\n",
       "    <tr>\n",
       "      <th>2021-09-27 00:00:00+00:00</th>\n",
       "      <td>54.4</td>\n",
       "      <td>A</td>\n",
       "      <td>10109000</td>\n",
       "    </tr>\n",
       "    <tr>\n",
       "      <th>2021-09-28 00:00:00+00:00</th>\n",
       "      <td>54.0</td>\n",
       "      <td>A</td>\n",
       "      <td>10109000</td>\n",
       "    </tr>\n",
       "    <tr>\n",
       "      <th>2021-09-29 00:00:00+00:00</th>\n",
       "      <td>53.5</td>\n",
       "      <td>A</td>\n",
       "      <td>10109000</td>\n",
       "    </tr>\n",
       "    <tr>\n",
       "      <th>2021-09-30 00:00:00+00:00</th>\n",
       "      <td>54.0</td>\n",
       "      <td>A</td>\n",
       "      <td>10109000</td>\n",
       "    </tr>\n",
       "  </tbody>\n",
       "</table>\n",
       "<p>365 rows × 3 columns</p>\n",
       "</div>"
      ],
      "text/plain": [
       "                           00060_Mean 00060_Mean_cd   site_no\n",
       "datetime                                                     \n",
       "2020-10-01 00:00:00+00:00        88.8             A  10109000\n",
       "2020-10-02 00:00:00+00:00        90.5             A  10109000\n",
       "2020-10-03 00:00:00+00:00        92.7             A  10109000\n",
       "2020-10-04 00:00:00+00:00        91.8             A  10109000\n",
       "2020-10-05 00:00:00+00:00        91.0             A  10109000\n",
       "...                               ...           ...       ...\n",
       "2021-09-26 00:00:00+00:00        54.2             A  10109000\n",
       "2021-09-27 00:00:00+00:00        54.4             A  10109000\n",
       "2021-09-28 00:00:00+00:00        54.0             A  10109000\n",
       "2021-09-29 00:00:00+00:00        53.5             A  10109000\n",
       "2021-09-30 00:00:00+00:00        54.0             A  10109000\n",
       "\n",
       "[365 rows x 3 columns]"
      ]
     },
     "metadata": {},
     "output_type": "display_data"
    }
   ],
   "source": [
    "# Display the data frame as a table\n",
    "display(dailyStreamflow[0])"
   ]
  },
  {
   "cell_type": "markdown",
   "metadata": {
    "pycharm": {
     "name": "#%% md\n"
    }
   },
   "source": [
    "Show the data types of the columns in the resulting data frame."
   ]
  },
  {
   "cell_type": "code",
   "execution_count": 5,
   "metadata": {
    "pycharm": {
     "name": "#%%\n"
    }
   },
   "outputs": [
    {
     "name": "stdout",
     "output_type": "stream",
     "text": [
      "00060_Mean       float64\n",
      "00060_Mean_cd     object\n",
      "site_no           object\n",
      "dtype: object\n"
     ]
    }
   ],
   "source": [
    "print(dailyStreamflow[0].dtypes)"
   ]
  },
  {
   "cell_type": "markdown",
   "metadata": {
    "pycharm": {
     "name": "#%% md\n"
    }
   },
   "source": [
    "Get summary statistics for the daily streamflow values."
   ]
  },
  {
   "cell_type": "code",
   "execution_count": 6,
   "metadata": {
    "pycharm": {
     "name": "#%%\n"
    }
   },
   "outputs": [
    {
     "data": {
      "text/html": [
       "<div>\n",
       "<style scoped>\n",
       "    .dataframe tbody tr th:only-of-type {\n",
       "        vertical-align: middle;\n",
       "    }\n",
       "\n",
       "    .dataframe tbody tr th {\n",
       "        vertical-align: top;\n",
       "    }\n",
       "\n",
       "    .dataframe thead th {\n",
       "        text-align: right;\n",
       "    }\n",
       "</style>\n",
       "<table border=\"1\" class=\"dataframe\">\n",
       "  <thead>\n",
       "    <tr style=\"text-align: right;\">\n",
       "      <th></th>\n",
       "      <th>00060_Mean</th>\n",
       "    </tr>\n",
       "  </thead>\n",
       "  <tbody>\n",
       "    <tr>\n",
       "      <th>count</th>\n",
       "      <td>365.000000</td>\n",
       "    </tr>\n",
       "    <tr>\n",
       "      <th>mean</th>\n",
       "      <td>95.791233</td>\n",
       "    </tr>\n",
       "    <tr>\n",
       "      <th>std</th>\n",
       "      <td>41.151108</td>\n",
       "    </tr>\n",
       "    <tr>\n",
       "      <th>min</th>\n",
       "      <td>45.900000</td>\n",
       "    </tr>\n",
       "    <tr>\n",
       "      <th>25%</th>\n",
       "      <td>75.200000</td>\n",
       "    </tr>\n",
       "    <tr>\n",
       "      <th>50%</th>\n",
       "      <td>85.800000</td>\n",
       "    </tr>\n",
       "    <tr>\n",
       "      <th>75%</th>\n",
       "      <td>106.000000</td>\n",
       "    </tr>\n",
       "    <tr>\n",
       "      <th>max</th>\n",
       "      <td>271.000000</td>\n",
       "    </tr>\n",
       "  </tbody>\n",
       "</table>\n",
       "</div>"
      ],
      "text/plain": [
       "       00060_Mean\n",
       "count  365.000000\n",
       "mean    95.791233\n",
       "std     41.151108\n",
       "min     45.900000\n",
       "25%     75.200000\n",
       "50%     85.800000\n",
       "75%    106.000000\n",
       "max    271.000000"
      ]
     },
     "execution_count": 6,
     "metadata": {},
     "output_type": "execute_result"
    }
   ],
   "source": [
    "dailyStreamflow[0].describe()"
   ]
  },
  {
   "cell_type": "markdown",
   "metadata": {
    "pycharm": {
     "name": "#%% md\n"
    }
   },
   "source": [
    "Make a quick time series plot."
   ]
  },
  {
   "cell_type": "code",
   "execution_count": 7,
   "metadata": {
    "pycharm": {
     "name": "#%%\n"
    }
   },
   "outputs": [
    {
     "data": {
      "text/plain": [
       "Text(0, 0.5, 'Streamflow (cfs)')"
      ]
     },
     "execution_count": 7,
     "metadata": {},
     "output_type": "execute_result"
    },
    {
     "data": {
      "image/png": "[encoded data removed]",
      "text/plain": [
       "<Figure size 432x288 with 1 Axes>"
      ]
     },
     "metadata": {
      "needs_background": "light"
     },
     "output_type": "display_data"
    }
   ],
   "source": [
    "ax = dailyStreamflow[0].plot(y='00060_Mean')\n",
    "ax.set_xlabel('Date')\n",
    "ax.set_ylabel('Streamflow (cfs)')"
   ]
  },
  {
   "cell_type": "markdown",
   "metadata": {},
   "source": [
    "The other part of the result returned from the `get_dv()` function is a metadata object that contains information about the query that was executed to return the data. For example, you can access the URL that was assembled to retrieve the requested data from the USGS web service. The USGS web service responses contain a descriptive header that defines and can be helpful in interpreting the contents of the response."
   ]
  },
  {
   "cell_type": "code",
   "execution_count": 8,
   "metadata": {
    "pycharm": {
     "name": "#%%\n"
    }
   },
   "outputs": [
    {
     "name": "stdout",
     "output_type": "stream",
     "text": [
      "The query URL used to retrieve the data from NWIS was: https://waterservices.usgs.gov/nwis/dv?format=json&startDT=2020-10-01&endDT=2021-09-30&sites=10109000&parameterCd=00060\n"
     ]
    }
   ],
   "source": [
    "print(\"The query URL used to retrieve the data from NWIS was: \" + dailyStreamflow[1].url)"
   ]
  },
  {
   "cell_type": "markdown",
   "metadata": {
    "pycharm": {
     "name": "#%% md\n"
    }
   },
   "source": [
    "### Additional Examples\n",
    "\n",
    "Example 2: Get daily mean and max discharge and temperature values for a site between a begin and end date.\n",
    "\n",
    "Parameter Code: 00010 = temperature, 00060 = discharge\n",
    "See https://help.waterdata.usgs.gov/codes-and-parameters/parameters\n",
    "\n",
    "Statistic Code: 00001 = Maximum, 00003 = Mean\n",
    "See https://help.waterdata.usgs.gov/stat_code\n",
    "\n",
    "NOTE: There's not full overlap in the availability of data for temperature and discharge for both statistics at this site. When data for one statistic is not available, a \"NaN\" value is returned in the data frame."
   ]
  },
  {
   "cell_type": "code",
   "execution_count": 9,
   "metadata": {
    "pycharm": {
     "name": "#%%\n"
    }
   },
   "outputs": [
    {
     "data": {
      "text/html": [
       "<div>\n",
       "<style scoped>\n",
       "    .dataframe tbody tr th:only-of-type {\n",
       "        vertical-align: middle;\n",
       "    }\n",
       "\n",
       "    .dataframe tbody tr th {\n",
       "        vertical-align: top;\n",
       "    }\n",
       "\n",
       "    .dataframe thead th {\n",
       "        text-align: right;\n",
       "    }\n",
       "</style>\n",
       "<table border=\"1\" class=\"dataframe\">\n",
       "  <thead>\n",
       "    <tr style=\"text-align: right;\">\n",
       "      <th></th>\n",
       "      <th>00010_Maximum</th>\n",
       "      <th>00010_Maximum_cd</th>\n",
       "      <th>site_no</th>\n",
       "      <th>00010_Mean</th>\n",
       "      <th>00010_Mean_cd</th>\n",
       "      <th>00060_Mean</th>\n",
       "      <th>00060_Mean_cd</th>\n",
       "    </tr>\n",
       "    <tr>\n",
       "      <th>datetime</th>\n",
       "      <th></th>\n",
       "      <th></th>\n",
       "      <th></th>\n",
       "      <th></th>\n",
       "      <th></th>\n",
       "      <th></th>\n",
       "      <th></th>\n",
       "    </tr>\n",
       "  </thead>\n",
       "  <tbody>\n",
       "    <tr>\n",
       "      <th>2020-10-01 00:00:00+00:00</th>\n",
       "      <td>NaN</td>\n",
       "      <td>NaN</td>\n",
       "      <td>04085427</td>\n",
       "      <td>NaN</td>\n",
       "      <td>NaN</td>\n",
       "      <td>96.2</td>\n",
       "      <td>A</td>\n",
       "    </tr>\n",
       "    <tr>\n",
       "      <th>2020-10-02 00:00:00+00:00</th>\n",
       "      <td>NaN</td>\n",
       "      <td>NaN</td>\n",
       "      <td>04085427</td>\n",
       "      <td>NaN</td>\n",
       "      <td>NaN</td>\n",
       "      <td>90.4</td>\n",
       "      <td>A</td>\n",
       "    </tr>\n",
       "    <tr>\n",
       "      <th>2020-10-03 00:00:00+00:00</th>\n",
       "      <td>NaN</td>\n",
       "      <td>NaN</td>\n",
       "      <td>04085427</td>\n",
       "      <td>NaN</td>\n",
       "      <td>NaN</td>\n",
       "      <td>84.7</td>\n",
       "      <td>A</td>\n",
       "    </tr>\n",
       "    <tr>\n",
       "      <th>2020-10-04 00:00:00+00:00</th>\n",
       "      <td>NaN</td>\n",
       "      <td>NaN</td>\n",
       "      <td>04085427</td>\n",
       "      <td>NaN</td>\n",
       "      <td>NaN</td>\n",
       "      <td>84.9</td>\n",
       "      <td>A</td>\n",
       "    </tr>\n",
       "    <tr>\n",
       "      <th>2020-10-05 00:00:00+00:00</th>\n",
       "      <td>NaN</td>\n",
       "      <td>NaN</td>\n",
       "      <td>04085427</td>\n",
       "      <td>NaN</td>\n",
       "      <td>NaN</td>\n",
       "      <td>93.4</td>\n",
       "      <td>A</td>\n",
       "    </tr>\n",
       "    <tr>\n",
       "      <th>...</th>\n",
       "      <td>...</td>\n",
       "      <td>...</td>\n",
       "      <td>...</td>\n",
       "      <td>...</td>\n",
       "      <td>...</td>\n",
       "      <td>...</td>\n",
       "      <td>...</td>\n",
       "    </tr>\n",
       "    <tr>\n",
       "      <th>2021-09-26 00:00:00+00:00</th>\n",
       "      <td>17.4</td>\n",
       "      <td>P</td>\n",
       "      <td>04085427</td>\n",
       "      <td>15.9</td>\n",
       "      <td>P</td>\n",
       "      <td>152.0</td>\n",
       "      <td>P</td>\n",
       "    </tr>\n",
       "    <tr>\n",
       "      <th>2021-09-27 00:00:00+00:00</th>\n",
       "      <td>18.4</td>\n",
       "      <td>P</td>\n",
       "      <td>04085427</td>\n",
       "      <td>16.8</td>\n",
       "      <td>P</td>\n",
       "      <td>135.0</td>\n",
       "      <td>P</td>\n",
       "    </tr>\n",
       "    <tr>\n",
       "      <th>2021-09-28 00:00:00+00:00</th>\n",
       "      <td>18.1</td>\n",
       "      <td>P</td>\n",
       "      <td>04085427</td>\n",
       "      <td>16.1</td>\n",
       "      <td>P</td>\n",
       "      <td>124.0</td>\n",
       "      <td>P</td>\n",
       "    </tr>\n",
       "    <tr>\n",
       "      <th>2021-09-29 00:00:00+00:00</th>\n",
       "      <td>18.4</td>\n",
       "      <td>P</td>\n",
       "      <td>04085427</td>\n",
       "      <td>16.2</td>\n",
       "      <td>P</td>\n",
       "      <td>120.0</td>\n",
       "      <td>P</td>\n",
       "    </tr>\n",
       "    <tr>\n",
       "      <th>2021-09-30 00:00:00+00:00</th>\n",
       "      <td>19.0</td>\n",
       "      <td>P</td>\n",
       "      <td>04085427</td>\n",
       "      <td>16.9</td>\n",
       "      <td>P</td>\n",
       "      <td>116.0</td>\n",
       "      <td>P</td>\n",
       "    </tr>\n",
       "  </tbody>\n",
       "</table>\n",
       "<p>365 rows × 7 columns</p>\n",
       "</div>"
      ],
      "text/plain": [
       "                           00010_Maximum 00010_Maximum_cd   site_no  \\\n",
       "datetime                                                              \n",
       "2020-10-01 00:00:00+00:00            NaN              NaN  04085427   \n",
       "2020-10-02 00:00:00+00:00            NaN              NaN  04085427   \n",
       "2020-10-03 00:00:00+00:00            NaN              NaN  04085427   \n",
       "2020-10-04 00:00:00+00:00            NaN              NaN  04085427   \n",
       "2020-10-05 00:00:00+00:00            NaN              NaN  04085427   \n",
       "...                                  ...              ...       ...   \n",
       "2021-09-26 00:00:00+00:00           17.4                P  04085427   \n",
       "2021-09-27 00:00:00+00:00           18.4                P  04085427   \n",
       "2021-09-28 00:00:00+00:00           18.1                P  04085427   \n",
       "2021-09-29 00:00:00+00:00           18.4                P  04085427   \n",
       "2021-09-30 00:00:00+00:00           19.0                P  04085427   \n",
       "\n",
       "                           00010_Mean 00010_Mean_cd  00060_Mean 00060_Mean_cd  \n",
       "datetime                                                                       \n",
       "2020-10-01 00:00:00+00:00         NaN           NaN        96.2             A  \n",
       "2020-10-02 00:00:00+00:00         NaN           NaN        90.4             A  \n",
       "2020-10-03 00:00:00+00:00         NaN           NaN        84.7             A  \n",
       "2020-10-04 00:00:00+00:00         NaN           NaN        84.9             A  \n",
       "2020-10-05 00:00:00+00:00         NaN           NaN        93.4             A  \n",
       "...                               ...           ...         ...           ...  \n",
       "2021-09-26 00:00:00+00:00        15.9             P       152.0             P  \n",
       "2021-09-27 00:00:00+00:00        16.8             P       135.0             P  \n",
       "2021-09-28 00:00:00+00:00        16.1             P       124.0             P  \n",
       "2021-09-29 00:00:00+00:00        16.2             P       120.0             P  \n",
       "2021-09-30 00:00:00+00:00        16.9             P       116.0             P  \n",
       "\n",
       "[365 rows x 7 columns]"
      ]
     },
     "metadata": {},
     "output_type": "display_data"
    }
   ],
   "source": [
    "siteID = \"04085427\"\n",
    "dailyQAndT = nwis.get_dv(sites=siteID, parameterCd=[\"00010\", \"00060\"],\n",
    "                         start=startDate, end=endDate,\n",
    "                         statCd=[\"00001\", \"00003\"])\n",
    "display(dailyQAndT[0])"
   ]
  },
  {
   "cell_type": "markdown",
   "metadata": {},
   "source": [
    "Example 3: Get daily mean and max discharge and temperature values for multiple sites between a begin and end date"
   ]
  },
  {
   "cell_type": "code",
   "execution_count": 10,
   "metadata": {
    "pycharm": {
     "name": "#%%\n"
    }
   },
   "outputs": [
    {
     "data": {
      "text/html": [
       "<div>\n",
       "<style scoped>\n",
       "    .dataframe tbody tr th:only-of-type {\n",
       "        vertical-align: middle;\n",
       "    }\n",
       "\n",
       "    .dataframe tbody tr th {\n",
       "        vertical-align: top;\n",
       "    }\n",
       "\n",
       "    .dataframe thead th {\n",
       "        text-align: right;\n",
       "    }\n",
       "</style>\n",
       "<table border=\"1\" class=\"dataframe\">\n",
       "  <thead>\n",
       "    <tr style=\"text-align: right;\">\n",
       "      <th></th>\n",
       "      <th></th>\n",
       "      <th>00010_discontinued_Maximum</th>\n",
       "      <th>00010_discontinued_Maximum_cd</th>\n",
       "      <th>00010_discontinued_Mean</th>\n",
       "      <th>00010_discontinued_Mean_cd</th>\n",
       "      <th>00060_Mean</th>\n",
       "      <th>00060_Mean_cd</th>\n",
       "    </tr>\n",
       "    <tr>\n",
       "      <th>site_no</th>\n",
       "      <th>datetime</th>\n",
       "      <th></th>\n",
       "      <th></th>\n",
       "      <th></th>\n",
       "      <th></th>\n",
       "      <th></th>\n",
       "      <th></th>\n",
       "    </tr>\n",
       "  </thead>\n",
       "  <tbody>\n",
       "    <tr>\n",
       "      <th rowspan=\"5\" valign=\"top\">01491000</th>\n",
       "      <th>2012-01-01 00:00:00+00:00</th>\n",
       "      <td>8.4</td>\n",
       "      <td>A</td>\n",
       "      <td>7.7</td>\n",
       "      <td>A</td>\n",
       "      <td>205.0</td>\n",
       "      <td>A</td>\n",
       "    </tr>\n",
       "    <tr>\n",
       "      <th>2012-01-02 00:00:00+00:00</th>\n",
       "      <td>8.5</td>\n",
       "      <td>A</td>\n",
       "      <td>7.3</td>\n",
       "      <td>A</td>\n",
       "      <td>193.0</td>\n",
       "      <td>A</td>\n",
       "    </tr>\n",
       "    <tr>\n",
       "      <th>2012-01-03 00:00:00+00:00</th>\n",
       "      <td>6.0</td>\n",
       "      <td>A</td>\n",
       "      <td>4.6</td>\n",
       "      <td>A</td>\n",
       "      <td>180.0</td>\n",
       "      <td>A</td>\n",
       "    </tr>\n",
       "    <tr>\n",
       "      <th>2012-01-04 00:00:00+00:00</th>\n",
       "      <td>3.0</td>\n",
       "      <td>A</td>\n",
       "      <td>1.8</td>\n",
       "      <td>A</td>\n",
       "      <td>162.0</td>\n",
       "      <td>A</td>\n",
       "    </tr>\n",
       "    <tr>\n",
       "      <th>2012-01-05 00:00:00+00:00</th>\n",
       "      <td>2.9</td>\n",
       "      <td>A</td>\n",
       "      <td>2.3</td>\n",
       "      <td>A</td>\n",
       "      <td>155.0</td>\n",
       "      <td>A</td>\n",
       "    </tr>\n",
       "    <tr>\n",
       "      <th>...</th>\n",
       "      <th>...</th>\n",
       "      <td>...</td>\n",
       "      <td>...</td>\n",
       "      <td>...</td>\n",
       "      <td>...</td>\n",
       "      <td>...</td>\n",
       "      <td>...</td>\n",
       "    </tr>\n",
       "    <tr>\n",
       "      <th rowspan=\"5\" valign=\"top\">01645000</th>\n",
       "      <th>2012-06-26 00:00:00+00:00</th>\n",
       "      <td>NaN</td>\n",
       "      <td>NaN</td>\n",
       "      <td>NaN</td>\n",
       "      <td>NaN</td>\n",
       "      <td>56.3</td>\n",
       "      <td>A</td>\n",
       "    </tr>\n",
       "    <tr>\n",
       "      <th>2012-06-27 00:00:00+00:00</th>\n",
       "      <td>NaN</td>\n",
       "      <td>NaN</td>\n",
       "      <td>NaN</td>\n",
       "      <td>NaN</td>\n",
       "      <td>54.8</td>\n",
       "      <td>A</td>\n",
       "    </tr>\n",
       "    <tr>\n",
       "      <th>2012-06-28 00:00:00+00:00</th>\n",
       "      <td>NaN</td>\n",
       "      <td>NaN</td>\n",
       "      <td>NaN</td>\n",
       "      <td>NaN</td>\n",
       "      <td>53.6</td>\n",
       "      <td>A</td>\n",
       "    </tr>\n",
       "    <tr>\n",
       "      <th>2012-06-29 00:00:00+00:00</th>\n",
       "      <td>NaN</td>\n",
       "      <td>NaN</td>\n",
       "      <td>NaN</td>\n",
       "      <td>NaN</td>\n",
       "      <td>53.1</td>\n",
       "      <td>A</td>\n",
       "    </tr>\n",
       "    <tr>\n",
       "      <th>2012-06-30 00:00:00+00:00</th>\n",
       "      <td>NaN</td>\n",
       "      <td>NaN</td>\n",
       "      <td>NaN</td>\n",
       "      <td>NaN</td>\n",
       "      <td>129.0</td>\n",
       "      <td>A</td>\n",
       "    </tr>\n",
       "  </tbody>\n",
       "</table>\n",
       "<p>364 rows × 6 columns</p>\n",
       "</div>"
      ],
      "text/plain": [
       "                                    00010_discontinued_Maximum  \\\n",
       "site_no  datetime                                                \n",
       "01491000 2012-01-01 00:00:00+00:00                         8.4   \n",
       "         2012-01-02 00:00:00+00:00                         8.5   \n",
       "         2012-01-03 00:00:00+00:00                         6.0   \n",
       "         2012-01-04 00:00:00+00:00                         3.0   \n",
       "         2012-01-05 00:00:00+00:00                         2.9   \n",
       "...                                                        ...   \n",
       "01645000 2012-06-26 00:00:00+00:00                         NaN   \n",
       "         2012-06-27 00:00:00+00:00                         NaN   \n",
       "         2012-06-28 00:00:00+00:00                         NaN   \n",
       "         2012-06-29 00:00:00+00:00                         NaN   \n",
       "         2012-06-30 00:00:00+00:00                         NaN   \n",
       "\n",
       "                                   00010_discontinued_Maximum_cd  \\\n",
       "site_no  datetime                                                  \n",
       "01491000 2012-01-01 00:00:00+00:00                             A   \n",
       "         2012-01-02 00:00:00+00:00                             A   \n",
       "         2012-01-03 00:00:00+00:00                             A   \n",
       "         2012-01-04 00:00:00+00:00                             A   \n",
       "         2012-01-05 00:00:00+00:00                             A   \n",
       "...                                                          ...   \n",
       "01645000 2012-06-26 00:00:00+00:00                           NaN   \n",
       "         2012-06-27 00:00:00+00:00                           NaN   \n",
       "         2012-06-28 00:00:00+00:00                           NaN   \n",
       "         2012-06-29 00:00:00+00:00                           NaN   \n",
       "         2012-06-30 00:00:00+00:00                           NaN   \n",
       "\n",
       "                                    00010_discontinued_Mean  \\\n",
       "site_no  datetime                                             \n",
       "01491000 2012-01-01 00:00:00+00:00                      7.7   \n",
       "         2012-01-02 00:00:00+00:00                      7.3   \n",
       "         2012-01-03 00:00:00+00:00                      4.6   \n",
       "         2012-01-04 00:00:00+00:00                      1.8   \n",
       "         2012-01-05 00:00:00+00:00                      2.3   \n",
       "...                                                     ...   \n",
       "01645000 2012-06-26 00:00:00+00:00                      NaN   \n",
       "         2012-06-27 00:00:00+00:00                      NaN   \n",
       "         2012-06-28 00:00:00+00:00                      NaN   \n",
       "         2012-06-29 00:00:00+00:00                      NaN   \n",
       "         2012-06-30 00:00:00+00:00                      NaN   \n",
       "\n",
       "                                   00010_discontinued_Mean_cd  00060_Mean  \\\n",
       "site_no  datetime                                                           \n",
       "01491000 2012-01-01 00:00:00+00:00                          A       205.0   \n",
       "         2012-01-02 00:00:00+00:00                          A       193.0   \n",
       "         2012-01-03 00:00:00+00:00                          A       180.0   \n",
       "         2012-01-04 00:00:00+00:00                          A       162.0   \n",
       "         2012-01-05 00:00:00+00:00                          A       155.0   \n",
       "...                                                       ...         ...   \n",
       "01645000 2012-06-26 00:00:00+00:00                        NaN        56.3   \n",
       "         2012-06-27 00:00:00+00:00                        NaN        54.8   \n",
       "         2012-06-28 00:00:00+00:00                        NaN        53.6   \n",
       "         2012-06-29 00:00:00+00:00                        NaN        53.1   \n",
       "         2012-06-30 00:00:00+00:00                        NaN       129.0   \n",
       "\n",
       "                                   00060_Mean_cd  \n",
       "site_no  datetime                                 \n",
       "01491000 2012-01-01 00:00:00+00:00             A  \n",
       "         2012-01-02 00:00:00+00:00             A  \n",
       "         2012-01-03 00:00:00+00:00             A  \n",
       "         2012-01-04 00:00:00+00:00             A  \n",
       "         2012-01-05 00:00:00+00:00             A  \n",
       "...                                          ...  \n",
       "01645000 2012-06-26 00:00:00+00:00             A  \n",
       "         2012-06-27 00:00:00+00:00             A  \n",
       "         2012-06-28 00:00:00+00:00             A  \n",
       "         2012-06-29 00:00:00+00:00             A  \n",
       "         2012-06-30 00:00:00+00:00             A  \n",
       "\n",
       "[364 rows x 6 columns]"
      ]
     },
     "metadata": {},
     "output_type": "display_data"
    }
   ],
   "source": [
    "dailyMultiSites = nwis.get_dv(sites=[\"01491000\", \"01645000\"], parameterCd=[\"00010\", \"00060\"],\n",
    "                              start=\"2012-01-01\", end=\"2012-06-30\", statCd=[\"00001\",\"00003\"])\n",
    "display(dailyMultiSites[0])"
   ]
  },
  {
   "cell_type": "markdown",
   "metadata": {},
   "source": [
    "Example 4: Test for a site that is not active - returns an empty DataFrame."
   ]
  },
  {
   "cell_type": "code",
   "execution_count": 11,
   "metadata": {
    "pycharm": {
     "name": "#%%\n"
    }
   },
   "outputs": [
    {
     "data": {
      "text/html": [
       "<div>\n",
       "<style scoped>\n",
       "    .dataframe tbody tr th:only-of-type {\n",
       "        vertical-align: middle;\n",
       "    }\n",
       "\n",
       "    .dataframe tbody tr th {\n",
       "        vertical-align: top;\n",
       "    }\n",
       "\n",
       "    .dataframe thead th {\n",
       "        text-align: right;\n",
       "    }\n",
       "</style>\n",
       "<table border=\"1\" class=\"dataframe\">\n",
       "  <thead>\n",
       "    <tr style=\"text-align: right;\">\n",
       "      <th></th>\n",
       "    </tr>\n",
       "  </thead>\n",
       "  <tbody>\n",
       "  </tbody>\n",
       "</table>\n",
       "</div>"
      ],
      "text/plain": [
       "Empty DataFrame\n",
       "Columns: []\n",
       "Index: []"
      ]
     },
     "metadata": {},
     "output_type": "display_data"
    }
   ],
   "source": [
    "siteID = \"05212700\"\n",
    "notActive = nwis.get_dv(sites=siteID, parameterCd=\"00060\", start=\"2014-01-01\", end=\"2014-01-07\")\n",
    "display(notActive[0])"
   ]
  },
  {
   "cell_type": "code",
   "execution_count": null,
   "metadata": {},
   "outputs": [],
   "source": []
  },
  {
   "cell_type": "code",
   "execution_count": null,
   "metadata": {},
   "outputs": [],
   "source": []
  }
 ],
 "metadata": {
  "kernelspec": {
   "display_name": "Python 3 (ipykernel)",
   "language": "python",
   "name": "python3"
  },
  "language_info": {
   "codemirror_mode": {
    "name": "ipython",
    "version": 3
   },
   "file_extension": ".py",
   "mimetype": "text/x-python",
   "name": "python",
   "nbconvert_exporter": "python",
   "pygments_lexer": "ipython3",
   "version": "3.9.7"
  }
 },
 "nbformat": 4,
 "nbformat_minor": 1
}
