{
 "cells": [
  {
   "cell_type": "markdown",
   "id": "687a28f7",
   "metadata": {},
   "source": [
    "# Introduction to USGS Data Retrieval Python Library\n",
    "This workbook illustrates the use of the USGS data retrieval library for importing and graphing daily and/or instantaneous (usually 15-minute) temperature data. Full documentation is available at https://doi-usgs.github.io/dataretrieval-python/examples/USGS_dataretrieval_DailyValues_Examples.html.  For students interested in the R programming language, a similar set of examples are available at https://waterdata.usgs.gov/blog/dataretrieval/\n",
    "\n",
    "# Install the USGS dataretrieval library\n",
    "\n",
    "To start, first install using pip (for most Python environments, from the command prompt) or using Anaconda's command prompt (if you have an Anaconda-based environment).\n",
    "\n",
    "pip install dataretrieval \n",
    "\n",
    "or\n",
    "\n",
    "conda install conda-forge::dataretrieval\n",
    "\n",
    "# Now import the library"
   ]
  },
  {
   "cell_type": "code",
   "execution_count": 2,
   "id": "4c2eee0c",
   "metadata": {},
   "outputs": [],
   "source": [
    "from dataretrieval import nwis"
   ]
  },
  {
   "cell_type": "markdown",
   "id": "c6169aae",
   "metadata": {},
   "source": [
    "## Read an Excel-based list of gage IDs downloaded using the USGS search function."
   ]
  },
  {
   "cell_type": "code",
   "execution_count": 150,
   "id": "6011efa6",
   "metadata": {},
   "outputs": [],
   "source": [
    "import pandas as pd\n",
    "gages = pd.read_excel('temp_gages.xlsx')"
   ]
  },
  {
   "cell_type": "markdown",
   "id": "bc77bfaf",
   "metadata": {},
   "source": [
    "## Run through all gages in the list and print out the ones with temperature data"
   ]
  },
  {
   "cell_type": "code",
   "execution_count": 167,
   "id": "6dbea12c",
   "metadata": {
    "scrolled": true
   },
   "outputs": [
    {
     "name": "stdout",
     "output_type": "stream",
     "text": [
      "Retrieved 1171 data values at gage 12009500\n",
      "Retrieved 3651 data values at gage 12010000\n",
      "Retrieved 6672 data values at gage 12011500\n",
      "Retrieved 7105 data values at gage 12027500\n",
      "Retrieved 4029 data values at gage 12031000\n",
      "Retrieved 286 data values at gage 12032500\n",
      "Retrieved 277 data values at gage 12034500\n",
      "Retrieved 5272 data values at gage 12037400\n",
      "Retrieved 782 data values at gage 12039500\n",
      "Retrieved 2275 data values at gage 1203951610\n",
      "Retrieved 1511 data values at gage 12042800\n",
      "Retrieved 1516 data values at gage 12043000\n",
      "Retrieved 8979 data values at gage 12056500\n",
      "Retrieved 4681 data values at gage 12058800\n",
      "Retrieved 4517 data values at gage 12098700\n",
      "Retrieved 4915 data values at gage 12100490\n",
      "Retrieved 50 data values at gage 12100500\n",
      "Retrieved 2778 data values at gage 12101102\n",
      "Retrieved 746 data values at gage 12113375\n",
      "Retrieved 4971 data values at gage 12113390\n",
      "Retrieved 1509 data values at gage 12113415\n",
      "Retrieved 1931 data values at gage 12114500\n",
      "Retrieved 9064 data values at gage 12115000\n",
      "Retrieved 1997 data values at gage 12115500\n",
      "Retrieved 2019 data values at gage 12116100\n",
      "Retrieved 2008 data values at gage 12116400\n",
      "Retrieved 8941 data values at gage 12116500\n",
      "Retrieved 1929 data values at gage 12117000\n",
      "Retrieved 2042 data values at gage 12117500\n",
      "Retrieved 8346 data values at gage 12117600\n",
      "Retrieved 10695 data values at gage 12119000\n",
      "Retrieved 642 data values at gage 12134500\n",
      "Retrieved 5196 data values at gage 12137290\n",
      "Retrieved 5371 data values at gage 12137800\n",
      "Retrieved 9149 data values at gage 12138160\n",
      "Retrieved 3027 data values at gage 12147470\n",
      "Retrieved 9941 data values at gage 12147500\n",
      "Retrieved 10185 data values at gage 12147600\n",
      "Retrieved 10698 data values at gage 12148000\n",
      "Retrieved 10390 data values at gage 12148300\n",
      "Retrieved 2748 data values at gage 12148500\n",
      "Retrieved 131 data values at gage 12170000\n",
      "Retrieved 182 data values at gage 12170300\n",
      "Retrieved 2116 data values at gage 12172000\n",
      "Retrieved 2175 data values at gage 12173500\n",
      "Retrieved 8067 data values at gage 12178000\n",
      "Retrieved 2062 data values at gage 12178100\n",
      "Retrieved 2684 data values at gage 12179900\n",
      "Retrieved 12365 data values at gage 12181000\n",
      "Retrieved 9461 data values at gage 12182500\n",
      "Retrieved 2726 data values at gage 12186000\n",
      "Retrieved 2681 data values at gage 12187500\n",
      "Retrieved 8260 data values at gage 12200500\n",
      "Retrieved 5786 data values at gage 12205000\n",
      "Retrieved 2462 data values at gage 12209000\n",
      "Retrieved 5483 data values at gage 12209490\n",
      "Retrieved 5280 data values at gage 12210000\n",
      "Retrieved 6474 data values at gage 12210700\n",
      "Retrieved 5541 data values at gage 12210900\n",
      "Retrieved 5385 data values at gage 12212050\n",
      "Retrieved 5562 data values at gage 12212430\n",
      "Retrieved 5906 data values at gage 12213100\n",
      "Retrieved 10805 data values at gage 12398600\n",
      "Retrieved 4336 data values at gage 12433561\n",
      "Retrieved 2680 data values at gage 12438000\n",
      "Retrieved 2734 data values at gage 12438900\n",
      "Retrieved 7453 data values at gage 12439500\n",
      "Retrieved 4107 data values at gage 12442500\n",
      "Retrieved 4640 data values at gage 12445000\n",
      "Retrieved 7199 data values at gage 12447200\n",
      "Retrieved 2621 data values at gage 12447302\n",
      "Retrieved 4324 data values at gage 12447390\n",
      "Retrieved 238 data values at gage 12448000\n",
      "Retrieved 165 data values at gage 12448500\n",
      "Retrieved 360 data values at gage 12448998\n",
      "Retrieved 165 data values at gage 12449500\n",
      "Retrieved 2755 data values at gage 12462500\n",
      "Retrieved 1246 data values at gage 12488500\n",
      "Retrieved 1496 data values at gage 12500450\n",
      "Retrieved 461 data values at gage 12505330\n",
      "Retrieved 370 data values at gage 12505350\n",
      "Retrieved 474 data values at gage 12505410\n",
      "Retrieved 1359 data values at gage 12505450\n",
      "Retrieved 558 data values at gage 12505510\n",
      "Retrieved 780 data values at gage 12507508\n",
      "Retrieved 382 data values at gage 12507560\n",
      "Retrieved 469 data values at gage 12508630\n",
      "Retrieved 466 data values at gage 12508670\n",
      "Retrieved 1633 data values at gage 12509489\n",
      "Retrieved 1313 data values at gage 12510500\n",
      "Retrieved 2440 data values at gage 12514400\n",
      "Retrieved 21724 data values at gage 13334300\n",
      "Retrieved 4758 data values at gage 13343595\n",
      "Retrieved 4743 data values at gage 13343860\n",
      "Retrieved 4735 data values at gage 13352600\n",
      "Retrieved 4711 data values at gage 13353010\n",
      "Retrieved 848 data values at gage 14018500\n",
      "Retrieved 4733 data values at gage 14019240\n"
     ]
    }
   ],
   "source": [
    "gage_list = gages['Code']\n",
    "parameterCode = \"00010\"\n",
    "startDate = \"1720-10-01\"\n",
    "endDate = \"2024-11-01\"\n",
    "for gage_id in gage_list:\n",
    "    #print(str(gage_id))\n",
    "    dailyStreamflow = nwis.get_dv(sites=str(gage_id), parameterCd=parameterCode, start=startDate, end=endDate) \n",
    "    if len(dailyStreamflow[0])>0: \n",
    "        print(\"Retrieved \" + str(len(dailyStreamflow[0])) + \" data values at gage \" + str(gage_id))\n"
   ]
  },
  {
   "cell_type": "markdown",
   "id": "73e46f21",
   "metadata": {},
   "source": [
    "# Define the site number, parameter to plot, and dates  \n",
    "You can find the site from the USGS map interface at https://waterdata.usgs.gov\n",
    "Here, we're plotting discharge in cubic feet per second, which has code 00060.  Other codes are at https://help.waterdata.usgs.gov/codes-and-parameters/parameters.  The most commonly measured parameters are under the physical parameter codes.  For example, discharge in cfs is code 00060, and celsius temperature is 00010."
   ]
  },
  {
   "cell_type": "code",
   "execution_count": 215,
   "id": "691ec4e3",
   "metadata": {},
   "outputs": [],
   "source": [
    "# Set the parameters needed to retrieve data\n",
    "siteNumber = \"12148300\" \n",
    "parameterCode = \"00010\" # Temperature\n",
    "startDate = \"1920-10-01\"\n",
    "endDate = \"2024-11-01\"\n"
   ]
  },
  {
   "cell_type": "markdown",
   "id": "89ca822b",
   "metadata": {},
   "source": [
    "# Download the data\n",
    "The resulting data are formated as an array of Pandas dataframes.  Here, the length of the resulting dataframe is displayed as plain text. To simplify things, copy the first in the array of dataframes into a new variable called dfDailyStreamflow."
   ]
  },
  {
   "cell_type": "code",
   "execution_count": 216,
   "id": "cda87371",
   "metadata": {
    "scrolled": false
   },
   "outputs": [
    {
     "name": "stdout",
     "output_type": "stream",
     "text": [
      "Retrieved 10390 data values.\n"
     ]
    }
   ],
   "source": [
    "dailyT = nwis.get_dv(sites=siteNumber, parameterCd=parameterCode, start=startDate, end=endDate) \n",
    "print(\"Retrieved \" + str(len(dailyStreamflow[0])) + \" data values.\")\n",
    "dfDailyT = dailyT[0]"
   ]
  },
  {
   "cell_type": "markdown",
   "id": "4521b95f",
   "metadata": {},
   "source": [
    "We can display the data as follows:"
   ]
  },
  {
   "cell_type": "code",
   "execution_count": 217,
   "id": "3338c998",
   "metadata": {},
   "outputs": [
    {
     "data": {
      "text/html": [
       "<div>\n",
       "<style scoped>\n",
       "    .dataframe tbody tr th:only-of-type {\n",
       "        vertical-align: middle;\n",
       "    }\n",
       "\n",
       "    .dataframe tbody tr th {\n",
       "        vertical-align: top;\n",
       "    }\n",
       "\n",
       "    .dataframe thead th {\n",
       "        text-align: right;\n",
       "    }\n",
       "</style>\n",
       "<table border=\"1\" class=\"dataframe\">\n",
       "  <thead>\n",
       "    <tr style=\"text-align: right;\">\n",
       "      <th></th>\n",
       "      <th>00010_Maximum</th>\n",
       "      <th>00010_Maximum_cd</th>\n",
       "      <th>site_no</th>\n",
       "      <th>00010_Minimum</th>\n",
       "      <th>00010_Minimum_cd</th>\n",
       "      <th>00010_Mean</th>\n",
       "      <th>00010_Mean_cd</th>\n",
       "    </tr>\n",
       "    <tr>\n",
       "      <th>datetime</th>\n",
       "      <th></th>\n",
       "      <th></th>\n",
       "      <th></th>\n",
       "      <th></th>\n",
       "      <th></th>\n",
       "      <th></th>\n",
       "      <th></th>\n",
       "    </tr>\n",
       "  </thead>\n",
       "  <tbody>\n",
       "    <tr>\n",
       "      <th>1994-09-30 00:00:00+00:00</th>\n",
       "      <td>13.6</td>\n",
       "      <td>A</td>\n",
       "      <td>12148300</td>\n",
       "      <td>12.7</td>\n",
       "      <td>A</td>\n",
       "      <td>13.1</td>\n",
       "      <td>A</td>\n",
       "    </tr>\n",
       "    <tr>\n",
       "      <th>1994-10-01 00:00:00+00:00</th>\n",
       "      <td>13.3</td>\n",
       "      <td>A</td>\n",
       "      <td>12148300</td>\n",
       "      <td>12.7</td>\n",
       "      <td>A</td>\n",
       "      <td>13.1</td>\n",
       "      <td>A</td>\n",
       "    </tr>\n",
       "    <tr>\n",
       "      <th>1994-10-02 00:00:00+00:00</th>\n",
       "      <td>12.7</td>\n",
       "      <td>A</td>\n",
       "      <td>12148300</td>\n",
       "      <td>11.5</td>\n",
       "      <td>A</td>\n",
       "      <td>12.2</td>\n",
       "      <td>A</td>\n",
       "    </tr>\n",
       "    <tr>\n",
       "      <th>1994-10-03 00:00:00+00:00</th>\n",
       "      <td>12.4</td>\n",
       "      <td>A</td>\n",
       "      <td>12148300</td>\n",
       "      <td>10.2</td>\n",
       "      <td>A</td>\n",
       "      <td>11.3</td>\n",
       "      <td>A</td>\n",
       "    </tr>\n",
       "    <tr>\n",
       "      <th>1994-10-04 00:00:00+00:00</th>\n",
       "      <td>12.7</td>\n",
       "      <td>A</td>\n",
       "      <td>12148300</td>\n",
       "      <td>10.4</td>\n",
       "      <td>A</td>\n",
       "      <td>11.5</td>\n",
       "      <td>A</td>\n",
       "    </tr>\n",
       "    <tr>\n",
       "      <th>...</th>\n",
       "      <td>...</td>\n",
       "      <td>...</td>\n",
       "      <td>...</td>\n",
       "      <td>...</td>\n",
       "      <td>...</td>\n",
       "      <td>...</td>\n",
       "      <td>...</td>\n",
       "    </tr>\n",
       "    <tr>\n",
       "      <th>2024-04-11 00:00:00+00:00</th>\n",
       "      <td>8.1</td>\n",
       "      <td>P</td>\n",
       "      <td>12148300</td>\n",
       "      <td>6.2</td>\n",
       "      <td>P</td>\n",
       "      <td>7.1</td>\n",
       "      <td>P</td>\n",
       "    </tr>\n",
       "    <tr>\n",
       "      <th>2024-04-12 00:00:00+00:00</th>\n",
       "      <td>8.8</td>\n",
       "      <td>P</td>\n",
       "      <td>12148300</td>\n",
       "      <td>6.6</td>\n",
       "      <td>P</td>\n",
       "      <td>7.5</td>\n",
       "      <td>P</td>\n",
       "    </tr>\n",
       "    <tr>\n",
       "      <th>2024-04-13 00:00:00+00:00</th>\n",
       "      <td>9.0</td>\n",
       "      <td>P</td>\n",
       "      <td>12148300</td>\n",
       "      <td>6.8</td>\n",
       "      <td>P</td>\n",
       "      <td>7.7</td>\n",
       "      <td>P</td>\n",
       "    </tr>\n",
       "    <tr>\n",
       "      <th>2024-04-14 00:00:00+00:00</th>\n",
       "      <td>9.5</td>\n",
       "      <td>P</td>\n",
       "      <td>12148300</td>\n",
       "      <td>6.4</td>\n",
       "      <td>P</td>\n",
       "      <td>7.8</td>\n",
       "      <td>P</td>\n",
       "    </tr>\n",
       "    <tr>\n",
       "      <th>2024-04-15 00:00:00+00:00</th>\n",
       "      <td>7.6</td>\n",
       "      <td>P</td>\n",
       "      <td>12148300</td>\n",
       "      <td>6.6</td>\n",
       "      <td>P</td>\n",
       "      <td>7.1</td>\n",
       "      <td>P</td>\n",
       "    </tr>\n",
       "  </tbody>\n",
       "</table>\n",
       "<p>10390 rows × 7 columns</p>\n",
       "</div>"
      ],
      "text/plain": [
       "                           00010_Maximum 00010_Maximum_cd   site_no  \\\n",
       "datetime                                                              \n",
       "1994-09-30 00:00:00+00:00           13.6                A  12148300   \n",
       "1994-10-01 00:00:00+00:00           13.3                A  12148300   \n",
       "1994-10-02 00:00:00+00:00           12.7                A  12148300   \n",
       "1994-10-03 00:00:00+00:00           12.4                A  12148300   \n",
       "1994-10-04 00:00:00+00:00           12.7                A  12148300   \n",
       "...                                  ...              ...       ...   \n",
       "2024-04-11 00:00:00+00:00            8.1                P  12148300   \n",
       "2024-04-12 00:00:00+00:00            8.8                P  12148300   \n",
       "2024-04-13 00:00:00+00:00            9.0                P  12148300   \n",
       "2024-04-14 00:00:00+00:00            9.5                P  12148300   \n",
       "2024-04-15 00:00:00+00:00            7.6                P  12148300   \n",
       "\n",
       "                           00010_Minimum 00010_Minimum_cd  00010_Mean  \\\n",
       "datetime                                                                \n",
       "1994-09-30 00:00:00+00:00           12.7                A        13.1   \n",
       "1994-10-01 00:00:00+00:00           12.7                A        13.1   \n",
       "1994-10-02 00:00:00+00:00           11.5                A        12.2   \n",
       "1994-10-03 00:00:00+00:00           10.2                A        11.3   \n",
       "1994-10-04 00:00:00+00:00           10.4                A        11.5   \n",
       "...                                  ...              ...         ...   \n",
       "2024-04-11 00:00:00+00:00            6.2                P         7.1   \n",
       "2024-04-12 00:00:00+00:00            6.6                P         7.5   \n",
       "2024-04-13 00:00:00+00:00            6.8                P         7.7   \n",
       "2024-04-14 00:00:00+00:00            6.4                P         7.8   \n",
       "2024-04-15 00:00:00+00:00            6.6                P         7.1   \n",
       "\n",
       "                          00010_Mean_cd  \n",
       "datetime                                 \n",
       "1994-09-30 00:00:00+00:00             A  \n",
       "1994-10-01 00:00:00+00:00             A  \n",
       "1994-10-02 00:00:00+00:00             A  \n",
       "1994-10-03 00:00:00+00:00             A  \n",
       "1994-10-04 00:00:00+00:00             A  \n",
       "...                                 ...  \n",
       "2024-04-11 00:00:00+00:00             P  \n",
       "2024-04-12 00:00:00+00:00             P  \n",
       "2024-04-13 00:00:00+00:00             P  \n",
       "2024-04-14 00:00:00+00:00             P  \n",
       "2024-04-15 00:00:00+00:00             P  \n",
       "\n",
       "[10390 rows x 7 columns]"
      ]
     },
     "execution_count": 217,
     "metadata": {},
     "output_type": "execute_result"
    }
   ],
   "source": [
    "dfDailyT"
   ]
  },
  {
   "cell_type": "markdown",
   "id": "bd44d553",
   "metadata": {},
   "source": [
    "# Optional: Clean the data\n",
    "The next step is optional, but it can be nice to simplify the dataframe by removing extraneous columns and\n",
    "adding intuitive names to the column headers. "
   ]
  },
  {
   "cell_type": "code",
   "execution_count": 218,
   "id": "d9dace11",
   "metadata": {},
   "outputs": [
    {
     "data": {
      "text/html": [
       "<div>\n",
       "<style scoped>\n",
       "    .dataframe tbody tr th:only-of-type {\n",
       "        vertical-align: middle;\n",
       "    }\n",
       "\n",
       "    .dataframe tbody tr th {\n",
       "        vertical-align: top;\n",
       "    }\n",
       "\n",
       "    .dataframe thead th {\n",
       "        text-align: right;\n",
       "    }\n",
       "</style>\n",
       "<table border=\"1\" class=\"dataframe\">\n",
       "  <thead>\n",
       "    <tr style=\"text-align: right;\">\n",
       "      <th></th>\n",
       "      <th>Tmax(C)</th>\n",
       "      <th>Tmin(C)</th>\n",
       "      <th>Tmean(C)</th>\n",
       "    </tr>\n",
       "    <tr>\n",
       "      <th>datetime</th>\n",
       "      <th></th>\n",
       "      <th></th>\n",
       "      <th></th>\n",
       "    </tr>\n",
       "  </thead>\n",
       "  <tbody>\n",
       "    <tr>\n",
       "      <th>1994-09-30 00:00:00+00:00</th>\n",
       "      <td>13.6</td>\n",
       "      <td>12.7</td>\n",
       "      <td>13.1</td>\n",
       "    </tr>\n",
       "    <tr>\n",
       "      <th>1994-10-01 00:00:00+00:00</th>\n",
       "      <td>13.3</td>\n",
       "      <td>12.7</td>\n",
       "      <td>13.1</td>\n",
       "    </tr>\n",
       "    <tr>\n",
       "      <th>1994-10-02 00:00:00+00:00</th>\n",
       "      <td>12.7</td>\n",
       "      <td>11.5</td>\n",
       "      <td>12.2</td>\n",
       "    </tr>\n",
       "    <tr>\n",
       "      <th>1994-10-03 00:00:00+00:00</th>\n",
       "      <td>12.4</td>\n",
       "      <td>10.2</td>\n",
       "      <td>11.3</td>\n",
       "    </tr>\n",
       "    <tr>\n",
       "      <th>1994-10-04 00:00:00+00:00</th>\n",
       "      <td>12.7</td>\n",
       "      <td>10.4</td>\n",
       "      <td>11.5</td>\n",
       "    </tr>\n",
       "    <tr>\n",
       "      <th>...</th>\n",
       "      <td>...</td>\n",
       "      <td>...</td>\n",
       "      <td>...</td>\n",
       "    </tr>\n",
       "    <tr>\n",
       "      <th>2024-04-11 00:00:00+00:00</th>\n",
       "      <td>8.1</td>\n",
       "      <td>6.2</td>\n",
       "      <td>7.1</td>\n",
       "    </tr>\n",
       "    <tr>\n",
       "      <th>2024-04-12 00:00:00+00:00</th>\n",
       "      <td>8.8</td>\n",
       "      <td>6.6</td>\n",
       "      <td>7.5</td>\n",
       "    </tr>\n",
       "    <tr>\n",
       "      <th>2024-04-13 00:00:00+00:00</th>\n",
       "      <td>9.0</td>\n",
       "      <td>6.8</td>\n",
       "      <td>7.7</td>\n",
       "    </tr>\n",
       "    <tr>\n",
       "      <th>2024-04-14 00:00:00+00:00</th>\n",
       "      <td>9.5</td>\n",
       "      <td>6.4</td>\n",
       "      <td>7.8</td>\n",
       "    </tr>\n",
       "    <tr>\n",
       "      <th>2024-04-15 00:00:00+00:00</th>\n",
       "      <td>7.6</td>\n",
       "      <td>6.6</td>\n",
       "      <td>7.1</td>\n",
       "    </tr>\n",
       "  </tbody>\n",
       "</table>\n",
       "<p>10390 rows × 3 columns</p>\n",
       "</div>"
      ],
      "text/plain": [
       "                           Tmax(C)  Tmin(C)  Tmean(C)\n",
       "datetime                                             \n",
       "1994-09-30 00:00:00+00:00     13.6     12.7      13.1\n",
       "1994-10-01 00:00:00+00:00     13.3     12.7      13.1\n",
       "1994-10-02 00:00:00+00:00     12.7     11.5      12.2\n",
       "1994-10-03 00:00:00+00:00     12.4     10.2      11.3\n",
       "1994-10-04 00:00:00+00:00     12.7     10.4      11.5\n",
       "...                            ...      ...       ...\n",
       "2024-04-11 00:00:00+00:00      8.1      6.2       7.1\n",
       "2024-04-12 00:00:00+00:00      8.8      6.6       7.5\n",
       "2024-04-13 00:00:00+00:00      9.0      6.8       7.7\n",
       "2024-04-14 00:00:00+00:00      9.5      6.4       7.8\n",
       "2024-04-15 00:00:00+00:00      7.6      6.6       7.1\n",
       "\n",
       "[10390 rows x 3 columns]"
      ]
     },
     "execution_count": 218,
     "metadata": {},
     "output_type": "execute_result"
    }
   ],
   "source": [
    "#Clean flow data\n",
    "dfT = dfDailyT.drop(columns=['00010_Maximum_cd','site_no', '00010_Minimum_cd','00010_Mean_cd'])\n",
    "dfT = dfT.rename(columns={'00010_Maximum':'Tmax(C)','00010_Minimum':'Tmin(C)', '00010_Mean':'Tmean(C)'})\n",
    "dfT.index = dfT.index.rename('datetime')\n",
    "#print out the data frame for inspection\n",
    "dfT"
   ]
  },
  {
   "cell_type": "markdown",
   "id": "3c56d677",
   "metadata": {},
   "source": [
    "   # Plot the data\n",
    "We can also make a simple timeseries plot using the standard matplotlib syntax.  Note that the data looks jagged because we are only plotting the mean value for each day, so full hydrographs are not resolved."
   ]
  },
  {
   "cell_type": "code",
   "execution_count": 219,
   "id": "dff5ab7f",
   "metadata": {
    "scrolled": true
   },
   "outputs": [
    {
     "data": {
      "text/plain": [
       "Text(0, 0.5, 'Mean Temp (C)')"
      ]
     },
     "execution_count": 219,
     "metadata": {},
     "output_type": "execute_result"
    },
    {
     "data": {
      "image/png": "[encoded data removed]",
      "text/plain": [
       "<Figure size 432x288 with 1 Axes>"
      ]
     },
     "metadata": {
      "needs_background": "light"
     },
     "output_type": "display_data"
    }
   ],
   "source": [
    "ax = dfT.plot(y='Tmean(C)')\n",
    "ax.set_xlabel('Date')\n",
    "ax.set_ylabel('Mean Temp (C)')"
   ]
  },
  {
   "cell_type": "markdown",
   "id": "d6c8889b",
   "metadata": {},
   "source": [
    "# Now Download Instantaneous Data\n",
    "Note here that using the instantaneous download function results in many more data points. This ensures that we resolve all the hydrographs.  You won't need this much data for every assignment, but it can be helpful for making smooth graphs."
   ]
  },
  {
   "cell_type": "code",
   "execution_count": 221,
   "id": "36b40b74",
   "metadata": {},
   "outputs": [
    {
     "name": "stdout",
     "output_type": "stream",
     "text": [
      "Retrieved 3076 data values.\n"
     ]
    },
    {
     "data": {
      "text/html": [
       "<div>\n",
       "<style scoped>\n",
       "    .dataframe tbody tr th:only-of-type {\n",
       "        vertical-align: middle;\n",
       "    }\n",
       "\n",
       "    .dataframe tbody tr th {\n",
       "        vertical-align: top;\n",
       "    }\n",
       "\n",
       "    .dataframe thead th {\n",
       "        text-align: right;\n",
       "    }\n",
       "</style>\n",
       "<table border=\"1\" class=\"dataframe\">\n",
       "  <thead>\n",
       "    <tr style=\"text-align: right;\">\n",
       "      <th></th>\n",
       "      <th>00010</th>\n",
       "      <th>00010_cd</th>\n",
       "      <th>site_no</th>\n",
       "    </tr>\n",
       "    <tr>\n",
       "      <th>datetime</th>\n",
       "      <th></th>\n",
       "      <th></th>\n",
       "      <th></th>\n",
       "    </tr>\n",
       "  </thead>\n",
       "  <tbody>\n",
       "    <tr>\n",
       "      <th>2020-10-01T00:00:00.000-07:00</th>\n",
       "      <td>11.1</td>\n",
       "      <td>A</td>\n",
       "      <td>12148300</td>\n",
       "    </tr>\n",
       "    <tr>\n",
       "      <th>2020-10-01T00:15:00.000-07:00</th>\n",
       "      <td>11.1</td>\n",
       "      <td>A</td>\n",
       "      <td>12148300</td>\n",
       "    </tr>\n",
       "    <tr>\n",
       "      <th>2020-10-01T00:30:00.000-07:00</th>\n",
       "      <td>11.1</td>\n",
       "      <td>A</td>\n",
       "      <td>12148300</td>\n",
       "    </tr>\n",
       "    <tr>\n",
       "      <th>2020-10-01T00:45:00.000-07:00</th>\n",
       "      <td>11.0</td>\n",
       "      <td>A</td>\n",
       "      <td>12148300</td>\n",
       "    </tr>\n",
       "    <tr>\n",
       "      <th>2020-10-01T01:00:00.000-07:00</th>\n",
       "      <td>11.0</td>\n",
       "      <td>A</td>\n",
       "      <td>12148300</td>\n",
       "    </tr>\n",
       "    <tr>\n",
       "      <th>...</th>\n",
       "      <td>...</td>\n",
       "      <td>...</td>\n",
       "      <td>...</td>\n",
       "    </tr>\n",
       "    <tr>\n",
       "      <th>2020-11-01T22:45:00.000-08:00</th>\n",
       "      <td>8.5</td>\n",
       "      <td>A</td>\n",
       "      <td>12148300</td>\n",
       "    </tr>\n",
       "    <tr>\n",
       "      <th>2020-11-01T23:00:00.000-08:00</th>\n",
       "      <td>8.5</td>\n",
       "      <td>A</td>\n",
       "      <td>12148300</td>\n",
       "    </tr>\n",
       "    <tr>\n",
       "      <th>2020-11-01T23:15:00.000-08:00</th>\n",
       "      <td>8.5</td>\n",
       "      <td>A</td>\n",
       "      <td>12148300</td>\n",
       "    </tr>\n",
       "    <tr>\n",
       "      <th>2020-11-01T23:30:00.000-08:00</th>\n",
       "      <td>8.5</td>\n",
       "      <td>A</td>\n",
       "      <td>12148300</td>\n",
       "    </tr>\n",
       "    <tr>\n",
       "      <th>2020-11-01T23:45:00.000-08:00</th>\n",
       "      <td>8.5</td>\n",
       "      <td>A</td>\n",
       "      <td>12148300</td>\n",
       "    </tr>\n",
       "  </tbody>\n",
       "</table>\n",
       "<p>3076 rows × 3 columns</p>\n",
       "</div>"
      ],
      "text/plain": [
       "                               00010 00010_cd   site_no\n",
       "datetime                                               \n",
       "2020-10-01T00:00:00.000-07:00   11.1        A  12148300\n",
       "2020-10-01T00:15:00.000-07:00   11.1        A  12148300\n",
       "2020-10-01T00:30:00.000-07:00   11.1        A  12148300\n",
       "2020-10-01T00:45:00.000-07:00   11.0        A  12148300\n",
       "2020-10-01T01:00:00.000-07:00   11.0        A  12148300\n",
       "...                              ...      ...       ...\n",
       "2020-11-01T22:45:00.000-08:00    8.5        A  12148300\n",
       "2020-11-01T23:00:00.000-08:00    8.5        A  12148300\n",
       "2020-11-01T23:15:00.000-08:00    8.5        A  12148300\n",
       "2020-11-01T23:30:00.000-08:00    8.5        A  12148300\n",
       "2020-11-01T23:45:00.000-08:00    8.5        A  12148300\n",
       "\n",
       "[3076 rows x 3 columns]"
      ]
     },
     "execution_count": 221,
     "metadata": {},
     "output_type": "execute_result"
    }
   ],
   "source": [
    "# Get instanteous data\n",
    "startDate = \"2020-10-01\"\n",
    "endDate = \"2020-11-01\"\n",
    "Temperature = nwis.get_iv(sites=siteNumber, parameterCd=parameterCode, start=startDate, end=endDate)\n",
    "print('Retrieved ' + str(len(Temperature[0])) + ' data values.')\n",
    "dfInstantaneous=Temperature[0]\n",
    "dfInstantaneous"
   ]
  },
  {
   "cell_type": "markdown",
   "id": "123e47df",
   "metadata": {},
   "source": [
    "# Optional: Clean the Instantaneous Data"
   ]
  },
  {
   "cell_type": "code",
   "execution_count": 222,
   "id": "06731462",
   "metadata": {},
   "outputs": [
    {
     "data": {
      "text/html": [
       "<div>\n",
       "<style scoped>\n",
       "    .dataframe tbody tr th:only-of-type {\n",
       "        vertical-align: middle;\n",
       "    }\n",
       "\n",
       "    .dataframe tbody tr th {\n",
       "        vertical-align: top;\n",
       "    }\n",
       "\n",
       "    .dataframe thead th {\n",
       "        text-align: right;\n",
       "    }\n",
       "</style>\n",
       "<table border=\"1\" class=\"dataframe\">\n",
       "  <thead>\n",
       "    <tr style=\"text-align: right;\">\n",
       "      <th></th>\n",
       "      <th>T(C)</th>\n",
       "    </tr>\n",
       "    <tr>\n",
       "      <th>datetime</th>\n",
       "      <th></th>\n",
       "    </tr>\n",
       "  </thead>\n",
       "  <tbody>\n",
       "    <tr>\n",
       "      <th>2020-10-01T00:00:00.000-07:00</th>\n",
       "      <td>11.1</td>\n",
       "    </tr>\n",
       "    <tr>\n",
       "      <th>2020-10-01T00:15:00.000-07:00</th>\n",
       "      <td>11.1</td>\n",
       "    </tr>\n",
       "    <tr>\n",
       "      <th>2020-10-01T00:30:00.000-07:00</th>\n",
       "      <td>11.1</td>\n",
       "    </tr>\n",
       "    <tr>\n",
       "      <th>2020-10-01T00:45:00.000-07:00</th>\n",
       "      <td>11.0</td>\n",
       "    </tr>\n",
       "    <tr>\n",
       "      <th>2020-10-01T01:00:00.000-07:00</th>\n",
       "      <td>11.0</td>\n",
       "    </tr>\n",
       "    <tr>\n",
       "      <th>...</th>\n",
       "      <td>...</td>\n",
       "    </tr>\n",
       "    <tr>\n",
       "      <th>2020-11-01T22:45:00.000-08:00</th>\n",
       "      <td>8.5</td>\n",
       "    </tr>\n",
       "    <tr>\n",
       "      <th>2020-11-01T23:00:00.000-08:00</th>\n",
       "      <td>8.5</td>\n",
       "    </tr>\n",
       "    <tr>\n",
       "      <th>2020-11-01T23:15:00.000-08:00</th>\n",
       "      <td>8.5</td>\n",
       "    </tr>\n",
       "    <tr>\n",
       "      <th>2020-11-01T23:30:00.000-08:00</th>\n",
       "      <td>8.5</td>\n",
       "    </tr>\n",
       "    <tr>\n",
       "      <th>2020-11-01T23:45:00.000-08:00</th>\n",
       "      <td>8.5</td>\n",
       "    </tr>\n",
       "  </tbody>\n",
       "</table>\n",
       "<p>3076 rows × 1 columns</p>\n",
       "</div>"
      ],
      "text/plain": [
       "                               T(C)\n",
       "datetime                           \n",
       "2020-10-01T00:00:00.000-07:00  11.1\n",
       "2020-10-01T00:15:00.000-07:00  11.1\n",
       "2020-10-01T00:30:00.000-07:00  11.1\n",
       "2020-10-01T00:45:00.000-07:00  11.0\n",
       "2020-10-01T01:00:00.000-07:00  11.0\n",
       "...                             ...\n",
       "2020-11-01T22:45:00.000-08:00   8.5\n",
       "2020-11-01T23:00:00.000-08:00   8.5\n",
       "2020-11-01T23:15:00.000-08:00   8.5\n",
       "2020-11-01T23:30:00.000-08:00   8.5\n",
       "2020-11-01T23:45:00.000-08:00   8.5\n",
       "\n",
       "[3076 rows x 1 columns]"
      ]
     },
     "execution_count": 222,
     "metadata": {},
     "output_type": "execute_result"
    }
   ],
   "source": [
    "#Clean flow data\n",
    "dfTinst = dfInstantaneous.drop(columns=['00010_cd','site_no'])\n",
    "dfTinst = dfTinst.rename(columns={'00010':'T(C)'})\n",
    "dfTinst.index = dfTinst.index.rename('datetime')\n",
    "#print out the data frame for inspection\n",
    "dfTinst"
   ]
  },
  {
   "cell_type": "markdown",
   "id": "c114219f",
   "metadata": {},
   "source": [
    "# Plot the instantaneous data\n",
    "Now the graph should be much smoother."
   ]
  },
  {
   "cell_type": "code",
   "execution_count": 224,
   "id": "3ff43f61",
   "metadata": {},
   "outputs": [
    {
     "data": {
      "text/plain": [
       "Text(0, 0.5, 'Stream Temperature (C)')"
      ]
     },
     "execution_count": 224,
     "metadata": {},
     "output_type": "execute_result"
    },
    {
     "data": {
      "image/png": "[encoded data removed]",
      "text/plain": [
       "<Figure size 432x288 with 1 Axes>"
      ]
     },
     "metadata": {
      "needs_background": "light"
     },
     "output_type": "display_data"
    }
   ],
   "source": [
    "ax2 = dfTinst.plot(y='T(C)')\n",
    "ax2.set_xlabel('Date')\n",
    "ax2.set_ylabel('Stream Temperature (C)')"
   ]
  },
  {
   "cell_type": "markdown",
   "id": "93988e46",
   "metadata": {},
   "source": [
    "# Download larger dataset and Tabulate results from a subset of the data\n",
    "In the following, we download several years of daily data and summarize it on a weekly, monthly or seasonal basis."
   ]
  },
  {
   "cell_type": "code",
   "execution_count": 231,
   "id": "27b0db39",
   "metadata": {},
   "outputs": [],
   "source": [
    "startDate = \"2019-10-01\"\n",
    "endDate = \"2022-09-30\""
   ]
  },
  {
   "cell_type": "code",
   "execution_count": 232,
   "id": "d11438a9",
   "metadata": {},
   "outputs": [
    {
     "name": "stdout",
     "output_type": "stream",
     "text": [
      "Retrieved 1090 data values.\n"
     ]
    },
    {
     "data": {
      "text/html": [
       "<div>\n",
       "<style scoped>\n",
       "    .dataframe tbody tr th:only-of-type {\n",
       "        vertical-align: middle;\n",
       "    }\n",
       "\n",
       "    .dataframe tbody tr th {\n",
       "        vertical-align: top;\n",
       "    }\n",
       "\n",
       "    .dataframe thead th {\n",
       "        text-align: right;\n",
       "    }\n",
       "</style>\n",
       "<table border=\"1\" class=\"dataframe\">\n",
       "  <thead>\n",
       "    <tr style=\"text-align: right;\">\n",
       "      <th></th>\n",
       "      <th>Tmax(C)</th>\n",
       "      <th>Tmin(C)</th>\n",
       "      <th>Tmean(C)</th>\n",
       "    </tr>\n",
       "    <tr>\n",
       "      <th>datetime</th>\n",
       "      <th></th>\n",
       "      <th></th>\n",
       "      <th></th>\n",
       "    </tr>\n",
       "  </thead>\n",
       "  <tbody>\n",
       "    <tr>\n",
       "      <th>2019-10-01 00:00:00+00:00</th>\n",
       "      <td>10.5</td>\n",
       "      <td>8.7</td>\n",
       "      <td>9.5</td>\n",
       "    </tr>\n",
       "    <tr>\n",
       "      <th>2019-10-02 00:00:00+00:00</th>\n",
       "      <td>11.1</td>\n",
       "      <td>9.0</td>\n",
       "      <td>10.0</td>\n",
       "    </tr>\n",
       "    <tr>\n",
       "      <th>2019-10-03 00:00:00+00:00</th>\n",
       "      <td>11.1</td>\n",
       "      <td>10.2</td>\n",
       "      <td>10.6</td>\n",
       "    </tr>\n",
       "    <tr>\n",
       "      <th>2019-10-04 00:00:00+00:00</th>\n",
       "      <td>11.0</td>\n",
       "      <td>10.1</td>\n",
       "      <td>10.5</td>\n",
       "    </tr>\n",
       "    <tr>\n",
       "      <th>2019-10-05 00:00:00+00:00</th>\n",
       "      <td>11.5</td>\n",
       "      <td>10.0</td>\n",
       "      <td>10.8</td>\n",
       "    </tr>\n",
       "    <tr>\n",
       "      <th>...</th>\n",
       "      <td>...</td>\n",
       "      <td>...</td>\n",
       "      <td>...</td>\n",
       "    </tr>\n",
       "    <tr>\n",
       "      <th>2022-09-26 00:00:00+00:00</th>\n",
       "      <td>10.8</td>\n",
       "      <td>9.0</td>\n",
       "      <td>9.8</td>\n",
       "    </tr>\n",
       "    <tr>\n",
       "      <th>2022-09-27 00:00:00+00:00</th>\n",
       "      <td>10.8</td>\n",
       "      <td>9.1</td>\n",
       "      <td>9.9</td>\n",
       "    </tr>\n",
       "    <tr>\n",
       "      <th>2022-09-28 00:00:00+00:00</th>\n",
       "      <td>10.2</td>\n",
       "      <td>9.2</td>\n",
       "      <td>9.6</td>\n",
       "    </tr>\n",
       "    <tr>\n",
       "      <th>2022-09-29 00:00:00+00:00</th>\n",
       "      <td>10.4</td>\n",
       "      <td>9.3</td>\n",
       "      <td>9.8</td>\n",
       "    </tr>\n",
       "    <tr>\n",
       "      <th>2022-09-30 00:00:00+00:00</th>\n",
       "      <td>10.3</td>\n",
       "      <td>9.0</td>\n",
       "      <td>9.6</td>\n",
       "    </tr>\n",
       "  </tbody>\n",
       "</table>\n",
       "<p>1090 rows × 3 columns</p>\n",
       "</div>"
      ],
      "text/plain": [
       "                           Tmax(C)  Tmin(C)  Tmean(C)\n",
       "datetime                                             \n",
       "2019-10-01 00:00:00+00:00     10.5      8.7       9.5\n",
       "2019-10-02 00:00:00+00:00     11.1      9.0      10.0\n",
       "2019-10-03 00:00:00+00:00     11.1     10.2      10.6\n",
       "2019-10-04 00:00:00+00:00     11.0     10.1      10.5\n",
       "2019-10-05 00:00:00+00:00     11.5     10.0      10.8\n",
       "...                            ...      ...       ...\n",
       "2022-09-26 00:00:00+00:00     10.8      9.0       9.8\n",
       "2022-09-27 00:00:00+00:00     10.8      9.1       9.9\n",
       "2022-09-28 00:00:00+00:00     10.2      9.2       9.6\n",
       "2022-09-29 00:00:00+00:00     10.4      9.3       9.8\n",
       "2022-09-30 00:00:00+00:00     10.3      9.0       9.6\n",
       "\n",
       "[1090 rows x 3 columns]"
      ]
     },
     "execution_count": 232,
     "metadata": {},
     "output_type": "execute_result"
    }
   ],
   "source": [
    "#summarize as 3-monthly values (starting October 1, so OND, JFM, etc)\n",
    "dfseasonal = dfT.resample('Q-SEP').mean()\n",
    "# Get daily data\n",
    "Temperature = nwis.get_dv(sites=siteNumber, parameterCd=parameterCode, start=startDate, end=endDate)\n",
    "print('Retrieved ' + str(len(Temperature[0])) + ' data values.')\n",
    "dfDailyT=Temperature[0]\n",
    "dfDailyT\n",
    "#Clean flow data\n",
    "dfT = dfDailyT.drop(columns=['00010_Maximum_cd','site_no', '00010_Minimum_cd','00010_Mean_cd'])\n",
    "dfT = dfT.rename(columns={'00010_Maximum':'Tmax(C)','00010_Minimum':'Tmin(C)', '00010_Mean':'Tmean(C)'})\n",
    "dfT.index = dfT.index.rename('datetime')\n",
    "#print out the data frame for inspection\n",
    "dfT\n"
   ]
  },
  {
   "cell_type": "code",
   "execution_count": 233,
   "id": "fe108ab8",
   "metadata": {},
   "outputs": [
    {
     "data": {
      "text/plain": [
       "Text(0, 0.5, 'Mean by Quarter')"
      ]
     },
     "execution_count": 233,
     "metadata": {},
     "output_type": "execute_result"
    },
    {
     "data": {
      "image/png": "[encoded data removed]",
      "text/plain": [
       "<Figure size 432x288 with 1 Axes>"
      ]
     },
     "metadata": {
      "needs_background": "light"
     },
     "output_type": "display_data"
    }
   ],
   "source": [
    "#resample on quarterly basis with end of year in specified month of September.\n",
    "dfseasonal_mean = dfT.resample('Q-SEP').mean()\n",
    "dfseasonal_mean\n",
    "ax3 = dfseasonal_mean.plot.bar(y='Tmean(C)')\n",
    "ax3.set_xlabel('Date')\n",
    "ax3.set_ylabel('Mean by Quarter')"
   ]
  },
  {
   "cell_type": "code",
   "execution_count": 234,
   "id": "4cae19d3",
   "metadata": {},
   "outputs": [
    {
     "data": {
      "text/plain": [
       "Text(0, 0.5, 'Mean by Month')"
      ]
     },
     "execution_count": 234,
     "metadata": {},
     "output_type": "execute_result"
    },
    {
     "data": {
      "image/png": "[encoded data removed]",
      "text/plain": [
       "<Figure size 432x288 with 1 Axes>"
      ]
     },
     "metadata": {
      "needs_background": "light"
     },
     "output_type": "display_data"
    }
   ],
   "source": [
    "#resample on monthly basis with end of year in specified month of September.\n",
    "dfmonthly_mean = dfT.resample('M').mean()\n",
    "dfmonthly_mean\n",
    "ax4 = dfmonthly_mean.plot.bar(y='Tmean(C)')\n",
    "ax4.set_xlabel('Date')\n",
    "ax4.set_ylabel('Mean by Month')"
   ]
  },
  {
   "cell_type": "code",
   "execution_count": 235,
   "id": "361ab0f2",
   "metadata": {},
   "outputs": [
    {
     "data": {
      "text/plain": [
       "Text(0, 0.5, 'Mean by week')"
      ]
     },
     "execution_count": 235,
     "metadata": {},
     "output_type": "execute_result"
    },
    {
     "data": {
      "image/png": "[encoded data removed]",
      "text/plain": [
       "<Figure size 432x288 with 1 Axes>"
      ]
     },
     "metadata": {
      "needs_background": "light"
     },
     "output_type": "display_data"
    }
   ],
   "source": [
    "#resample on weekly basis \n",
    "dfweekly_mean = dfT.resample('W').mean()\n",
    "dfweekly_mean\n",
    "ax5 = dfweekly_mean.plot.bar(y='Tmean(C)')\n",
    "ax5.set_xlabel('Date')\n",
    "ax5.set_ylabel('Mean by week')"
   ]
  },
  {
   "cell_type": "code",
   "execution_count": null,
   "id": "5782a6db",
   "metadata": {},
   "outputs": [],
   "source": []
  },
  {
   "cell_type": "code",
   "execution_count": null,
   "id": "c7d5cf9f",
   "metadata": {},
   "outputs": [],
   "source": []
  },
  {
   "cell_type": "code",
   "execution_count": null,
   "id": "ad249adf",
   "metadata": {},
   "outputs": [],
   "source": []
  }
 ],
 "metadata": {
  "kernelspec": {
   "display_name": "Python 3 (ipykernel)",
   "language": "python",
   "name": "python3"
  },
  "language_info": {
   "codemirror_mode": {
    "name": "ipython",
    "version": 3
   },
   "file_extension": ".py",
   "mimetype": "text/x-python",
   "name": "python",
   "nbconvert_exporter": "python",
   "pygments_lexer": "ipython3",
   "version": "3.9.7"
  }
 },
 "nbformat": 4,
 "nbformat_minor": 5
}
